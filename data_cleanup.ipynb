{
 "cells": [
  {
   "cell_type": "code",
   "execution_count": 1,
   "metadata": {},
   "outputs": [],
   "source": [
    "import os\n",
    "import shutil\n",
    "import csv\n",
    "from tqdm import tqdm\n",
    "import random"
   ]
  },
  {
   "cell_type": "code",
   "execution_count": 2,
   "metadata": {},
   "outputs": [],
   "source": [
    "# Params\n",
    "img_path = 'D:/birds/YOLO_birds/nabirds/images'\n",
    "txt_path = 'D:/birds/YOLO_birds/nabirds/labels'\n",
    "bbox_path = 'D:/birds/YOLO_birds/nabirds/bounding_boxes.txt'\n",
    "label_path = 'D:/birds/YOLO_birds/nabirds/image_class_labels.txt'\n",
    "class_path = 'D:/birds/YOLO_birds/nabirds/classes.txt'\n",
    "names_path = './data/names.txt'\n",
    "train_txt = './data/birds_train.txt'\n",
    "test_txt = './data/birds_test.txt'\n",
    "\n",
    "data_dict = {}\n",
    "new_labels = {}\n",
    "old_labels = {}\n",
    "img_names = []\n",
    "label_set = set()"
   ]
  },
  {
   "cell_type": "code",
   "execution_count": 3,
   "metadata": {},
   "outputs": [],
   "source": [
    "def create_labels(idx, label):\n",
    "    if label not in label_set:\n",
    "        label_set.add(label)\n",
    "        new_labels[label] = len(new_labels.keys())\n",
    "    \n",
    "    old_labels[idx] = label"
   ]
  },
  {
   "cell_type": "code",
   "execution_count": 4,
   "metadata": {},
   "outputs": [],
   "source": [
    "def get_bird_name(line):\n",
    "    line = line[0].split()\n",
    "    label = ''\n",
    "    \n",
    "    for i in range(1, len(line)):\n",
    "        if line[i][0] == '(':\n",
    "            break\n",
    "        else:\n",
    "            label += ' ' + line[i]\n",
    "            \n",
    "    label = label[1:]\n",
    "    \n",
    "    return line[0], label"
   ]
  },
  {
   "cell_type": "code",
   "execution_count": 5,
   "metadata": {},
   "outputs": [],
   "source": [
    "cur_line = 0\n",
    "with open(class_path) as class_file:\n",
    "    class_reader = csv.reader(class_file, delimiter = ',')\n",
    "    for line in class_reader:        \n",
    "        if cur_line < 295:\n",
    "            pass\n",
    "        else:\n",
    "            idx, label = get_bird_name(line)\n",
    "            create_labels(int(idx), label)\n",
    "        cur_line +=1"
   ]
  },
  {
   "cell_type": "code",
   "execution_count": 6,
   "metadata": {},
   "outputs": [],
   "source": [
    "with open(label_path) as labels_file:\n",
    "    labels_reader = csv.reader(labels_file, delimiter = ',')\n",
    "    for line in labels_reader:\n",
    "        line = line[0].split()\n",
    "        img = line[0].replace('-', '')\n",
    "        old_label = old_labels[int(line[1])]\n",
    "        new_label = new_labels[old_label]\n",
    "        data_dict[img] = [new_label]"
   ]
  },
  {
   "cell_type": "code",
   "execution_count": 7,
   "metadata": {},
   "outputs": [],
   "source": [
    "with open(bbox_path) as bbox_file:\n",
    "    bbox_reader = csv.reader(bbox_file, delimiter = ',')\n",
    "    for line in bbox_reader:\n",
    "        line = line[0].split()\n",
    "        img = line[0].replace('-', '')\n",
    "        x = float(line[1])\n",
    "        y = float(line[2])\n",
    "        w = float(line[3])\n",
    "        h = float(line[4])\n",
    "        x = (x + w/2)\n",
    "        y = (y + h/2)\n",
    "        data_dict[img].extend((x, y ,w, h))"
   ]
  },
  {
   "cell_type": "code",
   "execution_count": 8,
   "metadata": {},
   "outputs": [
    {
     "data": {
      "text/plain": [
       "48562"
      ]
     },
     "execution_count": 8,
     "metadata": {},
     "output_type": "execute_result"
    }
   ],
   "source": [
    "len(data_dict.keys())"
   ]
  },
  {
   "cell_type": "code",
   "execution_count": 9,
   "metadata": {},
   "outputs": [
    {
     "name": "stdout",
     "output_type": "stream",
     "text": [
      "0000139e21dc4d0cbfe14cae3c85c829 [287, 147.0, 173.0, 128.0, 228.0]\n",
      "0000d9fc4e024c06a0afa55cfb16b12b [376, 409.5, 237.0, 163.0, 298.0]\n",
      "000193069d834334b255a447742edce3 [283, 283.5, 556.0, 219.0, 378.0]\n",
      "0001afd499a14a67b940d419413e23b3 [51, 553.0, 291.0, 492.0, 224.0]\n",
      "000332b8997c454096472f0a8495aecf [125, 526.0, 334.0, 262.0, 390.0]\n",
      "000343bd521549baab9c7c97a70ac1a5 [58, 413.5, 388.5, 587.0, 357.0]\n",
      "0004ff8d0cc847ee94ba43352a8b9eb4 [6, 527.5, 342.5, 221.0, 467.0]\n"
     ]
    }
   ],
   "source": [
    "count = 0\n",
    "for key in data_dict.keys():\n",
    "    print(key, data_dict[key])\n",
    "    if count > 5:\n",
    "        break\n",
    "    count += 1"
   ]
  },
  {
   "cell_type": "code",
   "execution_count": 10,
   "metadata": {},
   "outputs": [
    {
     "name": "stderr",
     "output_type": "stream",
     "text": [
      "100%|████████████████████████████████████████████████████████████████████████████| 48562/48562 [43:05<00:00, 18.78it/s]\n"
     ]
    }
   ],
   "source": [
    "# create the labels for each image\n",
    "for key in tqdm(data_dict.keys()):\n",
    "    f_name = txt_path + '/' + key + '.txt'\n",
    "    line = ''\n",
    "    for col in data_dict[key]:\n",
    "        line += ' ' + str(col)\n",
    "    line = line[1:]\n",
    "    f = open(f_name, 'w')\n",
    "    f.write(line)\n",
    "    f.close()"
   ]
  },
  {
   "cell_type": "code",
   "execution_count": 10,
   "metadata": {},
   "outputs": [],
   "source": [
    "# create nabirds.names\n",
    "f = open(names_path, 'w')\n",
    "for key in new_labels.keys():\n",
    "    f.write(key + '\\n')\n",
    "f.close()"
   ]
  },
  {
   "cell_type": "code",
   "execution_count": 11,
   "metadata": {},
   "outputs": [],
   "source": [
    "def fix_slash(path):\n",
    "    path = path.split('\\\\')\n",
    "    path = img_path + '/' + path[1]\n",
    "    return path"
   ]
  },
  {
   "cell_type": "code",
   "execution_count": 12,
   "metadata": {},
   "outputs": [
    {
     "name": "stderr",
     "output_type": "stream",
     "text": [
      "48562it [00:02, 16910.85it/s]\n"
     ]
    }
   ],
   "source": [
    "num_imgs = len(data_dict.keys())\n",
    "test_size = int(0.1 * num_imgs)\n",
    "test_idx = random.sample(range(0, num_imgs), test_size)\n",
    "for subdir, dirs, imgs in os.walk(img_path):\n",
    "    for img in imgs:\n",
    "        #old_path = fix_slash(subdir) +'/'+ img\n",
    "        #new_path = img_path +'/'+ img\n",
    "        #shutil.move(old_path, new_path)\n",
    "        img_names.append(img[:-4])\n",
    "\n",
    "f_train = open(train_txt, 'w')\n",
    "f_test = open(test_txt, 'w')\n",
    "random.shuffle(img_names)\n",
    "for i, img in tqdm(enumerate(img_names)):\n",
    "    if i in test_idx:\n",
    "        f_test.write(img + '\\n')\n",
    "        \n",
    "    else:\n",
    "        f_train.write(img + '\\n')\n",
    "        \n",
    "f_train.close()\n",
    "f_test.close()"
   ]
  },
  {
   "cell_type": "code",
   "execution_count": null,
   "metadata": {},
   "outputs": [],
   "source": []
  }
 ],
 "metadata": {
  "kernelspec": {
   "display_name": "Python 3",
   "language": "python",
   "name": "python3"
  },
  "language_info": {
   "codemirror_mode": {
    "name": "ipython",
    "version": 3
   },
   "file_extension": ".py",
   "mimetype": "text/x-python",
   "name": "python",
   "nbconvert_exporter": "python",
   "pygments_lexer": "ipython3",
   "version": "3.6.10"
  }
 },
 "nbformat": 4,
 "nbformat_minor": 4
}
